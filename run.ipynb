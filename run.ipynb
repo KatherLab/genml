{
 "cells": [
  {
   "cell_type": "code",
   "execution_count": 8,
   "metadata": {},
   "outputs": [],
   "source": [
    "!cd /mnt/bulk-uranus/lizhang/LiWorkSpace/genomics/genml"
   ]
  },
  {
   "cell_type": "code",
   "execution_count": 9,
   "metadata": {},
   "outputs": [
    {
     "name": "stdout",
     "output_type": "stream",
     "text": [
      "Encoder_Name: hd\n",
      "Tokenizer and Encoder: char, HyenaDNA\n",
      "Encoder_Name: db2\n",
      "Tokenizer and Encoder: bpe, DNABERT2\n",
      "Encoder_Name: nt\n",
      "Tokenizer and Encoder: k-mer, NucleotideTransformer\n",
      "Encoder_Name: gv\n",
      "Tokenizer and Encoder: bpe, GROVER\n"
     ]
    }
   ],
   "source": [
    "!python -m src list-encoders"
   ]
  },
  {
   "cell_type": "code",
   "execution_count": 12,
   "metadata": {},
   "outputs": [
    {
     "name": "stdout",
     "output_type": "stream",
     "text": [
      "2024-11-28 15:23:51,282 - src.cli - INFO - Config loaded: {'filepath': '/mnt/bulk-uranus/lizhang/LiWorkSpace/genomics/data/01_raw/tcga_mutations_controlled.csv', 'pat_column': 'Patient_ID', 'mut_column': 'Alt_Sequence', 'num_patients': 1, 'encoder_name': 'nt', 'device': 'cuda:0', 'pooling_type': 'mean_pooling', 'batch_size': 64, 'num_workers': 4, 'output_dir': '/mnt/bulk-uranus/lizhang/LiWorkSpace/genomics/data/04_feature'}\n",
      "2024-11-28 15:23:51,284 - src.cli - INFO - Using encoder: nt with params: {'pretrained_model_name': 'InstaDeepAI/nucleotide-transformer-v2-500m-multi-species', 'cache_dir': '/mnt/bulk-uranus/lizhang/LiWorkSpace/genomics/data/06_checkpoints/nt_transformer', 'download': False}\n",
      "2024-11-28 15:23:51,284 - src.cli - INFO - Start feature extraction.\n",
      "Using device: cuda:0 (GPU available: True)\n",
      "2024-11-28 15:23:51,327 - root - INFO - Loading tokenizer from checkpoint: /mnt/bulk-uranus/lizhang/LiWorkSpace/genomics/data/06_checkpoints/nt_transformer/models--InstaDeepAI--nucleotide-transformer-v2-500m-multi-species/snapshots/f1fd7a1df5b19d31b88f11db1ce87caeb1ea4d2a\n",
      "2024-11-28 15:23:51,340 - root - INFO - Loading model from cache directory: /mnt/bulk-uranus/lizhang/LiWorkSpace/genomics/data/06_checkpoints/nt_transformer/models--InstaDeepAI--nucleotide-transformer-v2-500m-multi-species/snapshots/f1fd7a1df5b19d31b88f11db1ce87caeb1ea4d2a\n",
      "2024-11-28 15:23:57,631 - root - INFO - Feature extraction started at: 2024-11-28 15:23:57\n",
      "2024-11-28 15:23:57,631 - root - INFO - Model: nt\n",
      "\n",
      "2024-11-28 15:23:57,631 - root - INFO - Scanning for existing features...\n",
      "num_patients: 1\n",
      "Processing batches: 100%|███████████████████████| 13/13 [00:20<00:00,  1.55s/it]\n",
      "2024-11-28 15:25:47,802 - root - INFO - Saved features for patient TCGA-02-0003, final extracted features shape torch.Size([789, 1024])\n",
      "2024-11-28 15:25:47,820 - root - INFO - \n",
      "Feature extraction completed. Processed: 1, Skipped: 0, Errors: 0\n",
      "2024-11-28 15:25:47,838 - src.cli - INFO - Feature extraction and saving completed successfully.\n"
     ]
    }
   ],
   "source": [
    "!python -m src extract-feature"
   ]
  }
 ],
 "metadata": {
  "kernelspec": {
   "display_name": "genml",
   "language": "python",
   "name": "python3"
  },
  "language_info": {
   "codemirror_mode": {
    "name": "ipython",
    "version": 3
   },
   "file_extension": ".py",
   "mimetype": "text/x-python",
   "name": "python",
   "nbconvert_exporter": "python",
   "pygments_lexer": "ipython3",
   "version": "3.11.0"
  }
 },
 "nbformat": 4,
 "nbformat_minor": 2
}
